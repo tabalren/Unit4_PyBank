{
 "cells": [
  {
   "cell_type": "code",
   "execution_count": 4,
   "metadata": {},
   "outputs": [],
   "source": [
    "#PyBank \n",
    "##Script for analyzing financial records (profits/losses) of a company"
   ]
  },
  {
   "cell_type": "code",
   "execution_count": 5,
   "metadata": {},
   "outputs": [
    {
     "name": "stdout",
     "output_type": "stream",
     "text": [
      "Financial Analysis\n",
      "----------------------------\n",
      "Total Months: 86\n",
      "Total: $38382578\n",
      "Average Change: $-2315.12\n",
      "Greatest Increase in Profits: Feb-2012 $1926159\n",
      "Greatest Decrease in Profits: Sep-2013 $-2196167\n",
      "\n"
     ]
    }
   ],
   "source": [
    "# Import csv file\n",
    "import os\n",
    "import csv\n",
    "from pathlib import Path\n",
    "\n",
    "input_file = Path(\"budget_data.csv\")\n",
    "\n",
    "# Initialize empty lists for the following variables\n",
    "total_months = []\n",
    "total_profit = []\n",
    "monthly_profit_change = []\n",
    "\n",
    "# Open csv\n",
    "with open(input_file) as budget:\n",
    "    csvreader = csv.reader(budget)\n",
    "    header = next(csvreader)\n",
    "    # Iterate through the rows\n",
    "    for row in csvreader:\n",
    "\n",
    "        # Append the total months and total profit to their corresponding lists\n",
    "        total_months.append(row[0])\n",
    "        total_profit.append(int(row[1]))\n",
    "\n",
    "    # Iterate through the profits in order to get the monthly change in profits\n",
    "    for i in range(len(total_profit)-1):\n",
    "\n",
    "        # Take the difference between two months and append to monthly profit change\n",
    "        monthly_profit_change.append(total_profit[i+1]-total_profit[i])\n",
    "\n",
    "# Obtain the max and min of the the monthly profit change list\n",
    "max_increase_value = max(monthly_profit_change)\n",
    "max_decrease_value = min(monthly_profit_change)\n",
    "\n",
    "# Correlate max and min to the proper month using month list and index from max and min\n",
    "# We use the plus 1 at the end since month associated with change is the + 1 month or next month\n",
    "max_increase_month = monthly_profit_change.index(max_increase_value) + 1\n",
    "max_decrease_month = monthly_profit_change.index(max_decrease_value) + 1\n",
    "\n",
    "# Print Statements\n",
    "print_total_months = len(total_months)\n",
    "print_total_profit = sum(total_profit)\n",
    "print_avg_change = round(sum(monthly_profit_change) /\n",
    "                         len(monthly_profit_change), 2)\n",
    "\n",
    "\n",
    "output = (\n",
    "    f\"Financial Analysis\\n\"\n",
    "    f\"----------------------------\\n\"\n",
    "    f\"Total Months: {print_total_months}\\n\" \n",
    "    f\"Total: ${print_total_profit}\\n\"\n",
    "    f\"Average Change: ${print_avg_change}\\n\"\n",
    "    f\"Greatest Increase in Profits: {total_months[max_increase_month]} ${(max_increase_value)}\\n\"\n",
    "    f\"Greatest Decrease in Profits: {total_months[max_decrease_month]} ${(max_decrease_value)}\\n\"\n",
    ")\n",
    "\n",
    "#print output to ensure accuracy \n",
    "print(output)\n",
    "\n",
    "# Output file to text file\n",
    "text_path = \"output.txt\"\n",
    "\n",
    "with open(text_path,\"w\") as file:\n",
    "    \n",
    "# Write to print to Financial_Analysis_Summary \n",
    "    file.write(\"Financial Analysis\")\n",
    "    file.write(\"\\n\")\n",
    "    file.write(\"----------------------------\")\n",
    "    file.write(\"\\n\")\n",
    "    file.write(f\"Total Months: {print_total_months}\")\n",
    "    file.write(\"\\n\")\n",
    "    file.write(f\"Total: ${print_total_profit}\")\n",
    "    file.write(\"\\n\")\n",
    "    file.write(f\"Average Change: {print_avg_change}\")\n",
    "    file.write(\"\\n\")\n",
    "    file.write(f\"Greatest Increase in Profits: {total_months[max_increase_month]} ${max_increase_value}\")\n",
    "    file.write(\"\\n\")\n",
    "    file.write(f\"Greatest Decrease in Profits: {total_months[max_decrease_month]} ${max_decrease_value}\")"
   ]
  },
  {
   "cell_type": "code",
   "execution_count": null,
   "metadata": {},
   "outputs": [],
   "source": []
  }
 ],
 "metadata": {
  "kernelspec": {
   "display_name": "Python 3",
   "language": "python",
   "name": "python3"
  },
  "language_info": {
   "codemirror_mode": {
    "name": "ipython",
    "version": 3
   },
   "file_extension": ".py",
   "mimetype": "text/x-python",
   "name": "python",
   "nbconvert_exporter": "python",
   "pygments_lexer": "ipython3",
   "version": "3.8.5"
  }
 },
 "nbformat": 4,
 "nbformat_minor": 4
}
