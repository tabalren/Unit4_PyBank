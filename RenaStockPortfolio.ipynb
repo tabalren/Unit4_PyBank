{
 "cells": [
  {
   "cell_type": "code",
   "execution_count": 78,
   "metadata": {},
   "outputs": [
    {
     "name": "stdout",
     "output_type": "stream",
     "text": [
      "RENA'S CUSTOM STOCK PORTFOLIO ANALYSIS - GOOG, FB, TSLA\n"
     ]
    }
   ],
   "source": [
    "print(f\"RENA'S CUSTOM STOCK PORTFOLIO ANALYSIS - GOOG, FB, TSLA\")"
   ]
  },
  {
   "cell_type": "code",
   "execution_count": 2,
   "metadata": {},
   "outputs": [],
   "source": [
    "import pandas as pd\n",
    "import numpy as np\n",
    "import datetime as dt\n",
    "from pathlib import Path\n",
    "\n",
    "%matplotlib inline"
   ]
  },
  {
   "cell_type": "code",
   "execution_count": 3,
   "metadata": {},
   "outputs": [],
   "source": [
    "goog_data = pd.read_csv('Google_Stock_Data.csv', index_col='Date',parse_dates=True, infer_datetime_format=True)\n",
    "fb_data = pd.read_csv('Facebook_Stock_Data.csv', index_col='Date', parse_dates=True, infer_datetime_format=True)\n",
    "tsla_data = pd.read_csv('TSLA_Stock_Data.csv', index_col='Date', parse_dates=True, infer_datetime_format=True)\n",
    "sp60_data = pd.read_csv('SP60_data.csv', index_col='Date', parse_dates=True, infer_datetime_format=True)\n"
   ]
  },
  {
   "cell_type": "code",
   "execution_count": 4,
   "metadata": {},
   "outputs": [
    {
     "data": {
      "text/html": [
       "<div>\n",
       "<style scoped>\n",
       "    .dataframe tbody tr th:only-of-type {\n",
       "        vertical-align: middle;\n",
       "    }\n",
       "\n",
       "    .dataframe tbody tr th {\n",
       "        vertical-align: top;\n",
       "    }\n",
       "\n",
       "    .dataframe thead th {\n",
       "        text-align: right;\n",
       "    }\n",
       "</style>\n",
       "<table border=\"1\" class=\"dataframe\">\n",
       "  <thead>\n",
       "    <tr style=\"text-align: right;\">\n",
       "      <th></th>\n",
       "      <th>Close</th>\n",
       "    </tr>\n",
       "    <tr>\n",
       "      <th>Date</th>\n",
       "      <th></th>\n",
       "    </tr>\n",
       "  </thead>\n",
       "  <tbody>\n",
       "    <tr>\n",
       "      <th>2019-01-02 16:00:00</th>\n",
       "      <td>1045.85</td>\n",
       "    </tr>\n",
       "    <tr>\n",
       "      <th>2019-01-03 16:00:00</th>\n",
       "      <td>1016.06</td>\n",
       "    </tr>\n",
       "    <tr>\n",
       "      <th>2019-01-04 16:00:00</th>\n",
       "      <td>1070.71</td>\n",
       "    </tr>\n",
       "    <tr>\n",
       "      <th>2019-01-07 16:00:00</th>\n",
       "      <td>1068.39</td>\n",
       "    </tr>\n",
       "    <tr>\n",
       "      <th>2019-01-08 16:00:00</th>\n",
       "      <td>1076.28</td>\n",
       "    </tr>\n",
       "  </tbody>\n",
       "</table>\n",
       "</div>"
      ],
      "text/plain": [
       "                       Close\n",
       "Date                        \n",
       "2019-01-02 16:00:00  1045.85\n",
       "2019-01-03 16:00:00  1016.06\n",
       "2019-01-04 16:00:00  1070.71\n",
       "2019-01-07 16:00:00  1068.39\n",
       "2019-01-08 16:00:00  1076.28"
      ]
     },
     "execution_count": 4,
     "metadata": {},
     "output_type": "execute_result"
    }
   ],
   "source": [
    "goog_data.head()"
   ]
  },
  {
   "cell_type": "code",
   "execution_count": 5,
   "metadata": {},
   "outputs": [
    {
     "data": {
      "text/html": [
       "<div>\n",
       "<style scoped>\n",
       "    .dataframe tbody tr th:only-of-type {\n",
       "        vertical-align: middle;\n",
       "    }\n",
       "\n",
       "    .dataframe tbody tr th {\n",
       "        vertical-align: top;\n",
       "    }\n",
       "\n",
       "    .dataframe thead th {\n",
       "        text-align: right;\n",
       "    }\n",
       "</style>\n",
       "<table border=\"1\" class=\"dataframe\">\n",
       "  <thead>\n",
       "    <tr style=\"text-align: right;\">\n",
       "      <th></th>\n",
       "      <th>Close</th>\n",
       "    </tr>\n",
       "    <tr>\n",
       "      <th>Date</th>\n",
       "      <th></th>\n",
       "    </tr>\n",
       "  </thead>\n",
       "  <tbody>\n",
       "    <tr>\n",
       "      <th>2019-01-02 16:00:00</th>\n",
       "      <td>135.68</td>\n",
       "    </tr>\n",
       "    <tr>\n",
       "      <th>2019-01-03 16:00:00</th>\n",
       "      <td>131.74</td>\n",
       "    </tr>\n",
       "    <tr>\n",
       "      <th>2019-01-04 16:00:00</th>\n",
       "      <td>137.95</td>\n",
       "    </tr>\n",
       "    <tr>\n",
       "      <th>2019-01-07 16:00:00</th>\n",
       "      <td>138.05</td>\n",
       "    </tr>\n",
       "    <tr>\n",
       "      <th>2019-01-08 16:00:00</th>\n",
       "      <td>142.53</td>\n",
       "    </tr>\n",
       "  </tbody>\n",
       "</table>\n",
       "</div>"
      ],
      "text/plain": [
       "                      Close\n",
       "Date                       \n",
       "2019-01-02 16:00:00  135.68\n",
       "2019-01-03 16:00:00  131.74\n",
       "2019-01-04 16:00:00  137.95\n",
       "2019-01-07 16:00:00  138.05\n",
       "2019-01-08 16:00:00  142.53"
      ]
     },
     "execution_count": 5,
     "metadata": {},
     "output_type": "execute_result"
    }
   ],
   "source": [
    "fb_data.head()"
   ]
  },
  {
   "cell_type": "code",
   "execution_count": 6,
   "metadata": {},
   "outputs": [
    {
     "data": {
      "text/html": [
       "<div>\n",
       "<style scoped>\n",
       "    .dataframe tbody tr th:only-of-type {\n",
       "        vertical-align: middle;\n",
       "    }\n",
       "\n",
       "    .dataframe tbody tr th {\n",
       "        vertical-align: top;\n",
       "    }\n",
       "\n",
       "    .dataframe thead th {\n",
       "        text-align: right;\n",
       "    }\n",
       "</style>\n",
       "<table border=\"1\" class=\"dataframe\">\n",
       "  <thead>\n",
       "    <tr style=\"text-align: right;\">\n",
       "      <th></th>\n",
       "      <th>Close</th>\n",
       "    </tr>\n",
       "    <tr>\n",
       "      <th>Date</th>\n",
       "      <th></th>\n",
       "    </tr>\n",
       "  </thead>\n",
       "  <tbody>\n",
       "    <tr>\n",
       "      <th>2019-01-02 16:00:00</th>\n",
       "      <td>62.02</td>\n",
       "    </tr>\n",
       "    <tr>\n",
       "      <th>2019-01-03 16:00:00</th>\n",
       "      <td>60.07</td>\n",
       "    </tr>\n",
       "    <tr>\n",
       "      <th>2019-01-04 16:00:00</th>\n",
       "      <td>63.54</td>\n",
       "    </tr>\n",
       "    <tr>\n",
       "      <th>2019-01-07 16:00:00</th>\n",
       "      <td>66.99</td>\n",
       "    </tr>\n",
       "    <tr>\n",
       "      <th>2019-01-08 16:00:00</th>\n",
       "      <td>67.07</td>\n",
       "    </tr>\n",
       "  </tbody>\n",
       "</table>\n",
       "</div>"
      ],
      "text/plain": [
       "                     Close\n",
       "Date                      \n",
       "2019-01-02 16:00:00  62.02\n",
       "2019-01-03 16:00:00  60.07\n",
       "2019-01-04 16:00:00  63.54\n",
       "2019-01-07 16:00:00  66.99\n",
       "2019-01-08 16:00:00  67.07"
      ]
     },
     "execution_count": 6,
     "metadata": {},
     "output_type": "execute_result"
    }
   ],
   "source": [
    "tsla_data.head()"
   ]
  },
  {
   "cell_type": "code",
   "execution_count": 7,
   "metadata": {},
   "outputs": [
    {
     "data": {
      "text/html": [
       "<div>\n",
       "<style scoped>\n",
       "    .dataframe tbody tr th:only-of-type {\n",
       "        vertical-align: middle;\n",
       "    }\n",
       "\n",
       "    .dataframe tbody tr th {\n",
       "        vertical-align: top;\n",
       "    }\n",
       "\n",
       "    .dataframe thead th {\n",
       "        text-align: right;\n",
       "    }\n",
       "</style>\n",
       "<table border=\"1\" class=\"dataframe\">\n",
       "  <thead>\n",
       "    <tr style=\"text-align: right;\">\n",
       "      <th></th>\n",
       "      <th>Close</th>\n",
       "    </tr>\n",
       "    <tr>\n",
       "      <th>Date</th>\n",
       "      <th></th>\n",
       "    </tr>\n",
       "  </thead>\n",
       "  <tbody>\n",
       "    <tr>\n",
       "      <th>2018-12-31</th>\n",
       "      <td>14322.900391</td>\n",
       "    </tr>\n",
       "    <tr>\n",
       "      <th>2019-01-02</th>\n",
       "      <td>14347.200195</td>\n",
       "    </tr>\n",
       "    <tr>\n",
       "      <th>2019-01-03</th>\n",
       "      <td>14212.799805</td>\n",
       "    </tr>\n",
       "    <tr>\n",
       "      <th>2019-01-04</th>\n",
       "      <td>14426.599609</td>\n",
       "    </tr>\n",
       "    <tr>\n",
       "      <th>2019-01-07</th>\n",
       "      <td>14504.099609</td>\n",
       "    </tr>\n",
       "  </tbody>\n",
       "</table>\n",
       "</div>"
      ],
      "text/plain": [
       "                   Close\n",
       "Date                    \n",
       "2018-12-31  14322.900391\n",
       "2019-01-02  14347.200195\n",
       "2019-01-03  14212.799805\n",
       "2019-01-04  14426.599609\n",
       "2019-01-07  14504.099609"
      ]
     },
     "execution_count": 7,
     "metadata": {},
     "output_type": "execute_result"
    }
   ],
   "source": [
    "sp60_data.drop(columns=['Open', 'High', 'Low', 'Adj Close', 'Volume'], inplace=True)\n",
    "sp60_data.head()"
   ]
  },
  {
   "cell_type": "code",
   "execution_count": 9,
   "metadata": {},
   "outputs": [
    {
     "data": {
      "text/html": [
       "<div>\n",
       "<style scoped>\n",
       "    .dataframe tbody tr th:only-of-type {\n",
       "        vertical-align: middle;\n",
       "    }\n",
       "\n",
       "    .dataframe tbody tr th {\n",
       "        vertical-align: top;\n",
       "    }\n",
       "\n",
       "    .dataframe thead th {\n",
       "        text-align: right;\n",
       "    }\n",
       "</style>\n",
       "<table border=\"1\" class=\"dataframe\">\n",
       "  <thead>\n",
       "    <tr style=\"text-align: right;\">\n",
       "      <th></th>\n",
       "      <th>Close</th>\n",
       "    </tr>\n",
       "    <tr>\n",
       "      <th>Date</th>\n",
       "      <th></th>\n",
       "    </tr>\n",
       "  </thead>\n",
       "  <tbody>\n",
       "    <tr>\n",
       "      <th>2018-12-31</th>\n",
       "      <td>14322.9</td>\n",
       "    </tr>\n",
       "    <tr>\n",
       "      <th>2019-01-02</th>\n",
       "      <td>14347.2</td>\n",
       "    </tr>\n",
       "    <tr>\n",
       "      <th>2019-01-03</th>\n",
       "      <td>14212.8</td>\n",
       "    </tr>\n",
       "    <tr>\n",
       "      <th>2019-01-04</th>\n",
       "      <td>14426.6</td>\n",
       "    </tr>\n",
       "    <tr>\n",
       "      <th>2019-01-07</th>\n",
       "      <td>14504.1</td>\n",
       "    </tr>\n",
       "    <tr>\n",
       "      <th>...</th>\n",
       "      <td>...</td>\n",
       "    </tr>\n",
       "    <tr>\n",
       "      <th>2019-12-20</th>\n",
       "      <td>17118.4</td>\n",
       "    </tr>\n",
       "    <tr>\n",
       "      <th>2019-12-23</th>\n",
       "      <td>17128.7</td>\n",
       "    </tr>\n",
       "    <tr>\n",
       "      <th>2019-12-24</th>\n",
       "      <td>17180.2</td>\n",
       "    </tr>\n",
       "    <tr>\n",
       "      <th>2019-12-27</th>\n",
       "      <td>17168.2</td>\n",
       "    </tr>\n",
       "    <tr>\n",
       "      <th>2019-12-30</th>\n",
       "      <td>17098.6</td>\n",
       "    </tr>\n",
       "  </tbody>\n",
       "</table>\n",
       "<p>251 rows × 1 columns</p>\n",
       "</div>"
      ],
      "text/plain": [
       "              Close\n",
       "Date               \n",
       "2018-12-31  14322.9\n",
       "2019-01-02  14347.2\n",
       "2019-01-03  14212.8\n",
       "2019-01-04  14426.6\n",
       "2019-01-07  14504.1\n",
       "...             ...\n",
       "2019-12-20  17118.4\n",
       "2019-12-23  17128.7\n",
       "2019-12-24  17180.2\n",
       "2019-12-27  17168.2\n",
       "2019-12-30  17098.6\n",
       "\n",
       "[251 rows x 1 columns]"
      ]
     },
     "execution_count": 9,
     "metadata": {},
     "output_type": "execute_result"
    }
   ],
   "source": [
    "##Rounding decimal places of SP60 closing prices \n",
    "decimals = pd.Series([0], index=['Close'])\n",
    "sp60_data.round(2)"
   ]
  },
  {
   "cell_type": "code",
   "execution_count": 10,
   "metadata": {},
   "outputs": [],
   "source": [
    "goog_data.rename(columns={'Close':'GOOG'}, inplace=True)\n",
    "fb_data.rename(columns={'Close':'FB'}, inplace=True)\n",
    "tsla_data.rename(columns={'Close':'TSLA'}, inplace=True)\n",
    "sp60_data.rename(columns={'Close':'S&P 60 TSX'}, inplace=True)"
   ]
  },
  {
   "cell_type": "code",
   "execution_count": 40,
   "metadata": {},
   "outputs": [],
   "source": [
    "goog_data.index = goog_data.index.normalize()\n",
    "fb_data.index = fb_data.index.normalize()\n",
    "tsla_data.index = tsla_data.index.normalize()\n",
    "sp60_data.index = sp60_data.index.normalize()"
   ]
  },
  {
   "cell_type": "code",
   "execution_count": 43,
   "metadata": {},
   "outputs": [
    {
     "data": {
      "text/html": [
       "<div>\n",
       "<style scoped>\n",
       "    .dataframe tbody tr th:only-of-type {\n",
       "        vertical-align: middle;\n",
       "    }\n",
       "\n",
       "    .dataframe tbody tr th {\n",
       "        vertical-align: top;\n",
       "    }\n",
       "\n",
       "    .dataframe thead th {\n",
       "        text-align: right;\n",
       "    }\n",
       "</style>\n",
       "<table border=\"1\" class=\"dataframe\">\n",
       "  <thead>\n",
       "    <tr style=\"text-align: right;\">\n",
       "      <th></th>\n",
       "      <th>GOOG</th>\n",
       "      <th>FB</th>\n",
       "      <th>TSLA</th>\n",
       "      <th>S&amp;P 60 TSX</th>\n",
       "    </tr>\n",
       "    <tr>\n",
       "      <th>Date</th>\n",
       "      <th></th>\n",
       "      <th></th>\n",
       "      <th></th>\n",
       "      <th></th>\n",
       "    </tr>\n",
       "  </thead>\n",
       "  <tbody>\n",
       "    <tr>\n",
       "      <th>2019-01-02</th>\n",
       "      <td>1045.85</td>\n",
       "      <td>135.68</td>\n",
       "      <td>62.02</td>\n",
       "      <td>14347.200195</td>\n",
       "    </tr>\n",
       "    <tr>\n",
       "      <th>2019-01-03</th>\n",
       "      <td>1016.06</td>\n",
       "      <td>131.74</td>\n",
       "      <td>60.07</td>\n",
       "      <td>14212.799805</td>\n",
       "    </tr>\n",
       "    <tr>\n",
       "      <th>2019-01-04</th>\n",
       "      <td>1070.71</td>\n",
       "      <td>137.95</td>\n",
       "      <td>63.54</td>\n",
       "      <td>14426.599609</td>\n",
       "    </tr>\n",
       "    <tr>\n",
       "      <th>2019-01-07</th>\n",
       "      <td>1068.39</td>\n",
       "      <td>138.05</td>\n",
       "      <td>66.99</td>\n",
       "      <td>14504.099609</td>\n",
       "    </tr>\n",
       "    <tr>\n",
       "      <th>2019-01-08</th>\n",
       "      <td>1076.28</td>\n",
       "      <td>142.53</td>\n",
       "      <td>67.07</td>\n",
       "      <td>14605.200195</td>\n",
       "    </tr>\n",
       "  </tbody>\n",
       "</table>\n",
       "</div>"
      ],
      "text/plain": [
       "               GOOG      FB   TSLA    S&P 60 TSX\n",
       "Date                                            \n",
       "2019-01-02  1045.85  135.68  62.02  14347.200195\n",
       "2019-01-03  1016.06  131.74  60.07  14212.799805\n",
       "2019-01-04  1070.71  137.95  63.54  14426.599609\n",
       "2019-01-07  1068.39  138.05  66.99  14504.099609\n",
       "2019-01-08  1076.28  142.53  67.07  14605.200195"
      ]
     },
     "execution_count": 43,
     "metadata": {},
     "output_type": "execute_result"
    }
   ],
   "source": [
    "all_data = pd.concat([goog_data,fb_data,tsla_data,sp60_data], axis=\"columns\", join=\"inner\")\n",
    "all_data.head()"
   ]
  },
  {
   "cell_type": "code",
   "execution_count": 44,
   "metadata": {},
   "outputs": [
    {
     "data": {
      "text/html": [
       "<div>\n",
       "<style scoped>\n",
       "    .dataframe tbody tr th:only-of-type {\n",
       "        vertical-align: middle;\n",
       "    }\n",
       "\n",
       "    .dataframe tbody tr th {\n",
       "        vertical-align: top;\n",
       "    }\n",
       "\n",
       "    .dataframe thead th {\n",
       "        text-align: right;\n",
       "    }\n",
       "</style>\n",
       "<table border=\"1\" class=\"dataframe\">\n",
       "  <thead>\n",
       "    <tr style=\"text-align: right;\">\n",
       "      <th></th>\n",
       "      <th>GOOG</th>\n",
       "      <th>FB</th>\n",
       "      <th>TSLA</th>\n",
       "      <th>S&amp;P 60 TSX</th>\n",
       "    </tr>\n",
       "    <tr>\n",
       "      <th>Date</th>\n",
       "      <th></th>\n",
       "      <th></th>\n",
       "      <th></th>\n",
       "      <th></th>\n",
       "    </tr>\n",
       "  </thead>\n",
       "  <tbody>\n",
       "    <tr>\n",
       "      <th>2019-01-03</th>\n",
       "      <td>-0.028484</td>\n",
       "      <td>-0.029039</td>\n",
       "      <td>-0.031441</td>\n",
       "      <td>-0.009368</td>\n",
       "    </tr>\n",
       "    <tr>\n",
       "      <th>2019-01-04</th>\n",
       "      <td>0.053786</td>\n",
       "      <td>0.047138</td>\n",
       "      <td>0.057766</td>\n",
       "      <td>0.015043</td>\n",
       "    </tr>\n",
       "    <tr>\n",
       "      <th>2019-01-07</th>\n",
       "      <td>-0.002167</td>\n",
       "      <td>0.000725</td>\n",
       "      <td>0.054297</td>\n",
       "      <td>0.005372</td>\n",
       "    </tr>\n",
       "    <tr>\n",
       "      <th>2019-01-08</th>\n",
       "      <td>0.007385</td>\n",
       "      <td>0.032452</td>\n",
       "      <td>0.001194</td>\n",
       "      <td>0.006970</td>\n",
       "    </tr>\n",
       "    <tr>\n",
       "      <th>2019-01-09</th>\n",
       "      <td>-0.001505</td>\n",
       "      <td>0.011927</td>\n",
       "      <td>0.009542</td>\n",
       "      <td>0.013660</td>\n",
       "    </tr>\n",
       "  </tbody>\n",
       "</table>\n",
       "</div>"
      ],
      "text/plain": [
       "                GOOG        FB      TSLA  S&P 60 TSX\n",
       "Date                                                \n",
       "2019-01-03 -0.028484 -0.029039 -0.031441   -0.009368\n",
       "2019-01-04  0.053786  0.047138  0.057766    0.015043\n",
       "2019-01-07 -0.002167  0.000725  0.054297    0.005372\n",
       "2019-01-08  0.007385  0.032452  0.001194    0.006970\n",
       "2019-01-09 -0.001505  0.011927  0.009542    0.013660"
      ]
     },
     "execution_count": 44,
     "metadata": {},
     "output_type": "execute_result"
    }
   ],
   "source": [
    "daily_returns = all_data.pct_change().dropna()\n",
    "daily_returns.head()"
   ]
  },
  {
   "cell_type": "code",
   "execution_count": 49,
   "metadata": {},
   "outputs": [
    {
     "name": "stdout",
     "output_type": "stream",
     "text": [
      "WEIGHTED RETURNS USING 0.25 FOR EACH STOCK\n"
     ]
    }
   ],
   "source": [
    "print(f\"WEIGHTED RETURNS USING 0.25 FOR EACH STOCK\")"
   ]
  },
  {
   "cell_type": "code",
   "execution_count": 48,
   "metadata": {},
   "outputs": [
    {
     "data": {
      "text/plain": [
       "Date\n",
       "2019-01-03   -0.024583\n",
       "2019-01-04    0.043433\n",
       "2019-01-07    0.014557\n",
       "2019-01-08    0.012000\n",
       "2019-01-09    0.008406\n",
       "dtype: float64"
      ]
     },
     "execution_count": 48,
     "metadata": {},
     "output_type": "execute_result"
    }
   ],
   "source": [
    "weights = [0.25, 0.25, 0.25, 0.25]\n",
    "portfolio_returns = daily_returns.dot(weights)\n",
    "portfolio_returns.head()"
   ]
  },
  {
   "cell_type": "code",
   "execution_count": 50,
   "metadata": {},
   "outputs": [
    {
     "data": {
      "text/html": [
       "<div>\n",
       "<style scoped>\n",
       "    .dataframe tbody tr th:only-of-type {\n",
       "        vertical-align: middle;\n",
       "    }\n",
       "\n",
       "    .dataframe tbody tr th {\n",
       "        vertical-align: top;\n",
       "    }\n",
       "\n",
       "    .dataframe thead th {\n",
       "        text-align: right;\n",
       "    }\n",
       "</style>\n",
       "<table border=\"1\" class=\"dataframe\">\n",
       "  <thead>\n",
       "    <tr style=\"text-align: right;\">\n",
       "      <th></th>\n",
       "      <th>GOOG</th>\n",
       "      <th>FB</th>\n",
       "      <th>TSLA</th>\n",
       "      <th>S&amp;P 60 TSX</th>\n",
       "      <th>0</th>\n",
       "    </tr>\n",
       "    <tr>\n",
       "      <th>Date</th>\n",
       "      <th></th>\n",
       "      <th></th>\n",
       "      <th></th>\n",
       "      <th></th>\n",
       "      <th></th>\n",
       "    </tr>\n",
       "  </thead>\n",
       "  <tbody>\n",
       "    <tr>\n",
       "      <th>2019-01-03</th>\n",
       "      <td>-0.028484</td>\n",
       "      <td>-0.029039</td>\n",
       "      <td>-0.031441</td>\n",
       "      <td>-0.009368</td>\n",
       "      <td>-0.024583</td>\n",
       "    </tr>\n",
       "    <tr>\n",
       "      <th>2019-01-04</th>\n",
       "      <td>0.053786</td>\n",
       "      <td>0.047138</td>\n",
       "      <td>0.057766</td>\n",
       "      <td>0.015043</td>\n",
       "      <td>0.043433</td>\n",
       "    </tr>\n",
       "    <tr>\n",
       "      <th>2019-01-07</th>\n",
       "      <td>-0.002167</td>\n",
       "      <td>0.000725</td>\n",
       "      <td>0.054297</td>\n",
       "      <td>0.005372</td>\n",
       "      <td>0.014557</td>\n",
       "    </tr>\n",
       "    <tr>\n",
       "      <th>2019-01-08</th>\n",
       "      <td>0.007385</td>\n",
       "      <td>0.032452</td>\n",
       "      <td>0.001194</td>\n",
       "      <td>0.006970</td>\n",
       "      <td>0.012000</td>\n",
       "    </tr>\n",
       "    <tr>\n",
       "      <th>2019-01-09</th>\n",
       "      <td>-0.001505</td>\n",
       "      <td>0.011927</td>\n",
       "      <td>0.009542</td>\n",
       "      <td>0.013660</td>\n",
       "      <td>0.008406</td>\n",
       "    </tr>\n",
       "  </tbody>\n",
       "</table>\n",
       "</div>"
      ],
      "text/plain": [
       "                GOOG        FB      TSLA  S&P 60 TSX         0\n",
       "Date                                                          \n",
       "2019-01-03 -0.028484 -0.029039 -0.031441   -0.009368 -0.024583\n",
       "2019-01-04  0.053786  0.047138  0.057766    0.015043  0.043433\n",
       "2019-01-07 -0.002167  0.000725  0.054297    0.005372  0.014557\n",
       "2019-01-08  0.007385  0.032452  0.001194    0.006970  0.012000\n",
       "2019-01-09 -0.001505  0.011927  0.009542    0.013660  0.008406"
      ]
     },
     "execution_count": 50,
     "metadata": {},
     "output_type": "execute_result"
    }
   ],
   "source": [
    "joined_returns = pd.concat([daily_returns, portfolio_returns], axis='columns', join='inner')\n",
    "joined_returns.head()"
   ]
  },
  {
   "cell_type": "code",
   "execution_count": 53,
   "metadata": {},
   "outputs": [
    {
     "name": "stdout",
     "output_type": "stream",
     "text": [
      "RISK ANALYSIS OF EACH PORTFOLIO:\n",
      "The following calculations and plots include Annualized Standard Deviation, Correlation, Beta and Sharpe Ratios.\n"
     ]
    }
   ],
   "source": [
    "print(f\"RISK ANALYSIS OF EACH PORTFOLIO:\")\n",
    "print(f\"The following calculations and plots include Annualized Standard Deviation, Correlation, Beta and Sharpe Ratios.\")"
   ]
  },
  {
   "cell_type": "code",
   "execution_count": 54,
   "metadata": {},
   "outputs": [
    {
     "data": {
      "text/plain": [
       "S&P 60 TSX    0.073396\n",
       "GOOG          0.242284\n",
       "FB            0.277472\n",
       "TSLA          0.494540\n",
       "dtype: float64"
      ]
     },
     "execution_count": 54,
     "metadata": {},
     "output_type": "execute_result"
    }
   ],
   "source": [
    "volatility = daily_returns.std() * np.sqrt(252)\n",
    "volatility.sort_values(inplace=True)\n",
    "volatility"
   ]
  },
  {
   "cell_type": "code",
   "execution_count": 55,
   "metadata": {},
   "outputs": [
    {
     "name": "stdout",
     "output_type": "stream",
     "text": [
      "CONCLUSION: TSLA has the highest volatility based on the calculations above.\n"
     ]
    }
   ],
   "source": [
    "print(f\"CONCLUSION: TSLA has the highest volatility based on the calculations above.\")"
   ]
  },
  {
   "cell_type": "code",
   "execution_count": 57,
   "metadata": {},
   "outputs": [
    {
     "data": {
      "text/plain": [
       "<AxesSubplot:title={'center':'21 Day Rolling Standard Deviation of GOOG, FB, & TSLA vs S&P60 TSX'}, xlabel='Date'>"
      ]
     },
     "execution_count": 57,
     "metadata": {},
     "output_type": "execute_result"
    },
    {
     "data": {
      "image/png": "[encoded data removed]",
      "text/plain": [
       "<Figure size 432x288 with 1 Axes>"
      ]
     },
     "metadata": {
      "needs_background": "light"
     },
     "output_type": "display_data"
    }
   ],
   "source": [
    "daily_returns.rolling(window=21).std().plot(title='21 Day Rolling Standard Deviation of GOOG, FB, & TSLA vs S&P60 TSX')"
   ]
  },
  {
   "cell_type": "code",
   "execution_count": 59,
   "metadata": {},
   "outputs": [
    {
     "name": "stdout",
     "output_type": "stream",
     "text": [
      "CORRELATION BETWEEN RENA'S PORFTFOLIO AND THE S&P 500:\n",
      "The following will cover the calculations and plots for correlation and beta for GOOG stock as compared to the S&P60 TSX.\n"
     ]
    }
   ],
   "source": [
    "print(f\"CORRELATION BETWEEN RENA'S PORFTFOLIO AND THE S&P 500:\")\n",
    "print(f\"The following will cover the calculations and plots for correlation and beta for GOOG stock as compared to the S&P60 TSX.\")"
   ]
  },
  {
   "cell_type": "code",
   "execution_count": 60,
   "metadata": {},
   "outputs": [
    {
     "data": {
      "text/html": [
       "<div>\n",
       "<style scoped>\n",
       "    .dataframe tbody tr th:only-of-type {\n",
       "        vertical-align: middle;\n",
       "    }\n",
       "\n",
       "    .dataframe tbody tr th {\n",
       "        vertical-align: top;\n",
       "    }\n",
       "\n",
       "    .dataframe thead th {\n",
       "        text-align: right;\n",
       "    }\n",
       "</style>\n",
       "<table border=\"1\" class=\"dataframe\">\n",
       "  <thead>\n",
       "    <tr style=\"text-align: right;\">\n",
       "      <th></th>\n",
       "      <th>GOOG</th>\n",
       "      <th>FB</th>\n",
       "      <th>TSLA</th>\n",
       "      <th>S&amp;P 60 TSX</th>\n",
       "    </tr>\n",
       "  </thead>\n",
       "  <tbody>\n",
       "    <tr>\n",
       "      <th>GOOG</th>\n",
       "      <td>1.000000</td>\n",
       "      <td>0.555464</td>\n",
       "      <td>0.246404</td>\n",
       "      <td>0.492680</td>\n",
       "    </tr>\n",
       "    <tr>\n",
       "      <th>FB</th>\n",
       "      <td>0.555464</td>\n",
       "      <td>1.000000</td>\n",
       "      <td>0.243774</td>\n",
       "      <td>0.443910</td>\n",
       "    </tr>\n",
       "    <tr>\n",
       "      <th>TSLA</th>\n",
       "      <td>0.246404</td>\n",
       "      <td>0.243774</td>\n",
       "      <td>1.000000</td>\n",
       "      <td>0.288768</td>\n",
       "    </tr>\n",
       "    <tr>\n",
       "      <th>S&amp;P 60 TSX</th>\n",
       "      <td>0.492680</td>\n",
       "      <td>0.443910</td>\n",
       "      <td>0.288768</td>\n",
       "      <td>1.000000</td>\n",
       "    </tr>\n",
       "  </tbody>\n",
       "</table>\n",
       "</div>"
      ],
      "text/plain": [
       "                GOOG        FB      TSLA  S&P 60 TSX\n",
       "GOOG        1.000000  0.555464  0.246404    0.492680\n",
       "FB          0.555464  1.000000  0.243774    0.443910\n",
       "TSLA        0.246404  0.243774  1.000000    0.288768\n",
       "S&P 60 TSX  0.492680  0.443910  0.288768    1.000000"
      ]
     },
     "execution_count": 60,
     "metadata": {},
     "output_type": "execute_result"
    }
   ],
   "source": [
    "correlation = daily_returns.corr()\n",
    "correlation"
   ]
  },
  {
   "cell_type": "code",
   "execution_count": 61,
   "metadata": {},
   "outputs": [
    {
     "data": {
      "text/plain": [
       "<AxesSubplot:>"
      ]
     },
     "execution_count": 61,
     "metadata": {},
     "output_type": "execute_result"
    },
    {
     "data": {
      "image/png": "[encoded data removed]",
      "text/plain": [
       "<Figure size 432x288 with 2 Axes>"
      ]
     },
     "metadata": {
      "needs_background": "light"
     },
     "output_type": "display_data"
    }
   ],
   "source": [
    "import seaborn as sns\n",
    "sns.heatmap(correlation, vmin=-1, vmax=1)"
   ]
  },
  {
   "cell_type": "code",
   "execution_count": 62,
   "metadata": {},
   "outputs": [
    {
     "name": "stdout",
     "output_type": "stream",
     "text": [
      "Calculation and Plot of 60-Day Beta for Rena's Portfolio Compared to S&P 60 TSX\n"
     ]
    }
   ],
   "source": [
    "print(f\"Calculation and Plot of 60-Day Beta for Rena's Portfolio Compared to S&P 60 TSX\")"
   ]
  },
  {
   "cell_type": "code",
   "execution_count": 63,
   "metadata": {},
   "outputs": [],
   "source": [
    "rolling_covariance1 = daily_returns['GOOG'].rolling(window=60).cov(daily_returns['S&P 60 TSX'])\n",
    "rolling_covariance2 = daily_returns['FB'].rolling(window=60).cov(daily_returns['S&P 60 TSX'])\n",
    "rolling_covariance3 = daily_returns['TSLA'].rolling(window=60).cov(daily_returns['S&P 60 TSX'])"
   ]
  },
  {
   "cell_type": "code",
   "execution_count": 64,
   "metadata": {},
   "outputs": [
    {
     "data": {
      "text/plain": [
       "Date\n",
       "2019-01-03         NaN\n",
       "2019-01-04         NaN\n",
       "2019-01-07         NaN\n",
       "2019-01-08         NaN\n",
       "2019-01-09         NaN\n",
       "                ...   \n",
       "2019-12-20    0.000014\n",
       "2019-12-23    0.000014\n",
       "2019-12-24    0.000013\n",
       "2019-12-27    0.000013\n",
       "2019-12-30    0.000011\n",
       "Name: S&P 60 TSX, Length: 245, dtype: float64"
      ]
     },
     "execution_count": 64,
     "metadata": {},
     "output_type": "execute_result"
    }
   ],
   "source": [
    "rolling_variance = daily_returns['S&P 60 TSX'].rolling(window=60).var()\n",
    "rolling_variance"
   ]
  },
  {
   "cell_type": "code",
   "execution_count": 65,
   "metadata": {},
   "outputs": [],
   "source": [
    "rolling_beta_goog = rolling_covariance1 / rolling_variance\n",
    "rolling_beta_fb = rolling_covariance2 / rolling_variance\n",
    "rolling_beta_tsla = rolling_covariance3 / rolling_variance"
   ]
  },
  {
   "cell_type": "code",
   "execution_count": 68,
   "metadata": {},
   "outputs": [
    {
     "data": {
      "text/plain": [
       "<matplotlib.legend.Legend at 0x7f904985b850>"
      ]
     },
     "execution_count": 68,
     "metadata": {},
     "output_type": "execute_result"
    },
    {
     "data": {
      "image/png": "[encoded data removed]",
      "text/plain": [
       "<Figure size 1440x720 with 1 Axes>"
      ]
     },
     "metadata": {
      "needs_background": "light"
     },
     "output_type": "display_data"
    }
   ],
   "source": [
    "##Plot Betas \n",
    "ax = rolling_beta_goog.plot(figsize=(20, 10), title='Rolling 60-Day Beta of Rena Stock Portfolio')\n",
    "rolling_beta_fb.plot(ax=ax)\n",
    "rolling_beta_tsla.plot(ax=ax)\n",
    "                            \n",
    "\n",
    "# Set the legend of the figure\n",
    "ax.legend([\"GOOG\", \"FB\", \"TSLA\"])"
   ]
  },
  {
   "cell_type": "code",
   "execution_count": 69,
   "metadata": {},
   "outputs": [
    {
     "data": {
      "text/plain": [
       "<AxesSubplot:title={'center':\"Sharpe Ratios for Rena's Stock Portfolio\"}>"
      ]
     },
     "execution_count": 69,
     "metadata": {},
     "output_type": "execute_result"
    },
    {
     "data": {
      "image/png": "[encoded data removed]",
      "text/plain": [
       "<Figure size 432x288 with 1 Axes>"
      ]
     },
     "metadata": {
      "needs_background": "light"
     },
     "output_type": "display_data"
    }
   ],
   "source": [
    "##Calculations for Sharpe Ratios \n",
    "sharpe_ratios = (daily_returns.mean() * 252) / (daily_returns.std() * np.sqrt(252))\n",
    "sharpe_ratios\n",
    "sharpe_ratios.plot(kind=\"bar\", title=\"Sharpe Ratios for Rena's Stock Portfolio\")"
   ]
  },
  {
   "cell_type": "code",
   "execution_count": 77,
   "metadata": {},
   "outputs": [
    {
     "name": "stdout",
     "output_type": "stream",
     "text": [
      "Rena's Custom Stock Portfolio Analysis\n",
      "--------------------------------------\n",
      "-The chosen stocks for my portfolio include GOOG, FB and TSLA for the period of Jan 1 2019 to Jan 1 2020.\n",
      "-Looking at the risk analysis for each portfolio against the S&P 60 TSX, TSLA has the highest volatility.\n",
      "-Looking at the correlation calculations, it appears that GOOG most closely mimics the S&P 60 TSX.\n",
      "-Looking at the rolling beta calculations, it appears that FB and TSLA are generally more volatile than the market.\n",
      "-Finally, looking at the Sharpe Ratio calculations illustrates that FB has a greater return-to-risk ratio than GOOG and TSLA. However, my portfolio does not quite outperform the S&P 60 TSX.\n",
      "\n"
     ]
    }
   ],
   "source": [
    "##Answer assignment questions in raw text(markdown) cells in the report \n",
    "output2 = (\n",
    "    f\"Rena's Custom Stock Portfolio Analysis\\n\"\n",
    "    f\"--------------------------------------\\n\"\n",
    "    f\"-The chosen stocks for my portfolio include GOOG, FB and TSLA for the period of Jan 1 2019 to Jan 1 2020.\\n\" \n",
    "    f\"-Looking at the risk analysis for each portfolio against the S&P 60 TSX, TSLA has the highest volatility.\\n\"\n",
    "    f\"-Looking at the correlation calculations, it appears that GOOG most closely mimics the S&P 60 TSX.\\n\"\n",
    "    f\"-Looking at the rolling beta calculations, it appears that FB and TSLA are generally more volatile than the market.\\n\"\n",
    "    f\"-Finally, looking at the Sharpe Ratio calculations illustrates that FB has a greater return-to-risk ratio than GOOG and TSLA. However, my portfolio does not quite outperform the S&P 60 TSX.\\n\"\n",
    ")\n",
    "\n",
    "#print output to ensure accuracy \n",
    "print(output2)\n",
    "\n",
    "# Output file to text file\n",
    "text_path2 = \"output2.txt\"\n",
    "\n",
    "with open(text_path2,\"w\") as file:\n",
    "    \n",
    "# Write to print to Financial_Analysis_Summary \n",
    "    file.write(\"Rena's Custom Stock Portfolio Analysis\")\n",
    "    file.write(\"\\n\")\n",
    "    file.write(\"---------------------------------------\")\n",
    "    file.write(\"\\n\")\n",
    "    file.write(f\"-The chosen stocks for my portfolio include GOOG, FB and TSLA for the period of Jan 1 2019 to Jan 1 2020.\")\n",
    "    file.write(\"\\n\")\n",
    "    file.write(f\"-Looking at the risk analysis for each portfolio against the S&P 60 TSX, TSLA has the highest volatility.\")\n",
    "    file.write(\"\\n\")\n",
    "    file.write(f\"-Looking at the correlation calculations, it appears that GOOG most closely mimics the S&P 60 TSX.\")\n",
    "    file.write(\"\\n\")\n",
    "    file.write(f\"-Looking at the rolling beta calculations, it appears that FB and TSLA are generally more volatile than the market.\")\n",
    "    file.write(\"\\n\")\n",
    "    file.write(f\"-Finally, looking at the Sharpe Ratio calculations illustrates that FB has a greater return-to-risk ratio than GOOG and TSLA. However, my portfolio does not quite outperform the S&P 60 TSX.\")"
   ]
  },
  {
   "cell_type": "code",
   "execution_count": null,
   "metadata": {},
   "outputs": [],
   "source": []
  }
 ],
 "metadata": {
  "kernelspec": {
   "display_name": "Python 3",
   "language": "python",
   "name": "python3"
  },
  "language_info": {
   "codemirror_mode": {
    "name": "ipython",
    "version": 3
   },
   "file_extension": ".py",
   "mimetype": "text/x-python",
   "name": "python",
   "nbconvert_exporter": "python",
   "pygments_lexer": "ipython3",
   "version": "3.8.5"
  }
 },
 "nbformat": 4,
 "nbformat_minor": 4
}
